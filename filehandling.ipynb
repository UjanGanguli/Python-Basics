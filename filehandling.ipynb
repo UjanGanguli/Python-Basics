{
  "nbformat": 4,
  "nbformat_minor": 0,
  "metadata": {
    "colab": {
      "provenance": [],
      "authorship_tag": "ABX9TyMEX7GW1QPGRxTEErbLQKXD",
      "include_colab_link": true
    },
    "kernelspec": {
      "name": "python3",
      "display_name": "Python 3"
    },
    "language_info": {
      "name": "python"
    }
  },
  "cells": [
    {
      "cell_type": "markdown",
      "metadata": {
        "id": "view-in-github",
        "colab_type": "text"
      },
      "source": [
        "<a href=\"https://colab.research.google.com/github/UjanGanguli/Python-Basics/blob/main/filehandling.ipynb\" target=\"_parent\"><img src=\"https://colab.research.google.com/assets/colab-badge.svg\" alt=\"Open In Colab\"/></a>"
      ]
    },
    {
      "cell_type": "markdown",
      "source": [
        "File Handling\n"
      ],
      "metadata": {
        "id": "7e0WYV7m_w4q"
      }
    },
    {
      "cell_type": "markdown",
      "source": [
        "[1] Create a text file “MyFile.txt” in python and ask the user to write separate 3 lines with three input statements from the user."
      ],
      "metadata": {
        "id": "_B0zOKtc7okf"
      }
    },
    {
      "cell_type": "code",
      "source": [
        "def program1():\n",
        "    f = open(\"MyFile.txt\",\"w\")\n",
        "    line1=input(\"Enter the text:\")\n",
        "    line2=input(\"Enter the text:\")\n",
        "    line3=input(\"Enter the text:\")\n",
        "    new_line=\"\\n\"\n",
        "    f.write(line1)\n",
        "    f.write(new_line)\n",
        "    f.write(line2)\n",
        "    f.write(new_line)\n",
        "    f.write(line3)\n",
        "    f.write(new_line)\n",
        "    f.close()\n",
        "program1()"
      ],
      "metadata": {
        "colab": {
          "base_uri": "https://localhost:8080/"
        },
        "id": "BvaymwNE8Uqt",
        "outputId": "4adbe067-4e22-462c-fdc6-1d808540a568"
      },
      "execution_count": null,
      "outputs": [
        {
          "name": "stdout",
          "output_type": "stream",
          "text": [
            "Enter the text:hele\n",
            "Enter the text:udud\n",
            "Enter the text:uid\n"
          ]
        }
      ]
    },
    {
      "cell_type": "markdown",
      "source": [
        "[2] Read the contents of file in reverse order:"
      ],
      "metadata": {
        "id": "Rs4Ugeaw9nuk"
      }
    },
    {
      "cell_type": "code",
      "source": [
        "def program2():\n",
        "    for i in reversed(list(open(\"MyFile.txt\",\"r\"))):\n",
        "        print(i.rstrip())\n",
        "program2()"
      ],
      "metadata": {
        "colab": {
          "base_uri": "https://localhost:8080/"
        },
        "id": "RxUZxG6F9yBj",
        "outputId": "772af7c8-2100-4d23-8398-f9918fdedc9a"
      },
      "execution_count": null,
      "outputs": [
        {
          "output_type": "stream",
          "name": "stdout",
          "text": [
            "uid\n",
            "udud\n",
            "hele\n"
          ]
        }
      ]
    },
    {
      "cell_type": "markdown",
      "source": [
        "[3] Delete the file."
      ],
      "metadata": {
        "id": "n-tQRJ-R_Mqs"
      }
    },
    {
      "cell_type": "code",
      "source": [
        "import os\n",
        "os.remove(\"MyFile.txt\")"
      ],
      "metadata": {
        "id": "xlIOiL_t9fim"
      },
      "execution_count": null,
      "outputs": []
    }
  ]
}