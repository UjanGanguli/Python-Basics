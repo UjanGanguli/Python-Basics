{
  "cells": [
    {
      "cell_type": "markdown",
      "metadata": {
        "id": "view-in-github",
        "colab_type": "text"
      },
      "source": [
        "<a href=\"https://colab.research.google.com/github/UjanGanguli/Python-Basics/blob/main/numpy.ipynb\" target=\"_parent\"><img src=\"https://colab.research.google.com/assets/colab-badge.svg\" alt=\"Open In Colab\"/></a>"
      ]
    },
    {
      "cell_type": "markdown",
      "source": [
        "Topic:  Numpy"
      ],
      "metadata": {
        "id": "5CJh-QZiOjSt"
      }
    },
    {
      "cell_type": "markdown",
      "metadata": {
        "id": "1eyyJ2Mjk1Rb"
      },
      "source": [
        "1.Create a array using numpy for 10 barcodes of injection"
      ]
    },
    {
      "cell_type": "code",
      "execution_count": null,
      "metadata": {
        "colab": {
          "base_uri": "https://localhost:8080/"
        },
        "id": "K8NWNv-9k0Yx",
        "outputId": "5b65f266-616f-4bae-db8f-d7846e36e02a"
      },
      "outputs": [
        {
          "output_type": "execute_result",
          "data": {
            "text/plain": [
              "array([ 0.35499849, -0.6288824 , -0.76250343, -0.42068325,  1.05763877,\n",
              "        0.27375956,  1.39472354,  1.66868481, -0.99992322,  0.70291968])"
            ]
          },
          "metadata": {},
          "execution_count": 2
        }
      ],
      "source": [
        "import numpy as np\n",
        "arr1=np.random.randn(10)\n",
        "arr1"
      ]
    },
    {
      "cell_type": "markdown",
      "metadata": {
        "id": "AUer4r7Qlrs2"
      },
      "source": [
        "2.Create a 2 different array and number 1 for dolo ,2 for crocine and so on(both arrays have different datatypes)"
      ]
    },
    {
      "cell_type": "code",
      "execution_count": null,
      "metadata": {
        "colab": {
          "base_uri": "https://localhost:8080/"
        },
        "id": "jdPWIEIhmVYt",
        "outputId": "029f1b17-5da9-434a-fb1c-3e10178e26e6"
      },
      "outputs": [
        {
          "output_type": "stream",
          "name": "stdout",
          "text": [
            "['dolo' 'crocine' 'Paracetamol' 'azithromicine' 'pan-d']\n",
            "[1 2 3 4 5]\n"
          ]
        }
      ],
      "source": [
        "arr2=np.array(['dolo','crocine','Paracetamol','azithromicine','pan-d'])\n",
        "arr3=np.array([1,2,3,4,5])\n",
        "print(arr2)\n",
        "print(arr3)"
      ]
    },
    {
      "cell_type": "markdown",
      "metadata": {
        "id": "fgYA5nhVp2dI"
      },
      "source": [
        "3.Create a array using numpy with zero alotted for all entries"
      ]
    },
    {
      "cell_type": "code",
      "execution_count": null,
      "metadata": {
        "colab": {
          "base_uri": "https://localhost:8080/"
        },
        "id": "G9OJdzUup9gY",
        "outputId": "241c0f2f-f2c9-4d9d-928b-cbeedf314504"
      },
      "outputs": [
        {
          "output_type": "execute_result",
          "data": {
            "text/plain": [
              "array([0., 0., 0., 0., 0.])"
            ]
          },
          "metadata": {},
          "execution_count": 4
        }
      ],
      "source": [
        "s=np.zeros(5)\n",
        "s"
      ]
    },
    {
      "cell_type": "markdown",
      "metadata": {
        "id": "w4wUAif9qKmo"
      },
      "source": [
        "4.Increase the assigned value by 1."
      ]
    },
    {
      "cell_type": "code",
      "execution_count": null,
      "metadata": {
        "colab": {
          "base_uri": "https://localhost:8080/"
        },
        "id": "teyLRx33qShU",
        "outputId": "9497ddbd-69cd-4053-d8a5-0599663b1826"
      },
      "outputs": [
        {
          "output_type": "execute_result",
          "data": {
            "text/plain": [
              "array([0., 1., 0., 0., 0.])"
            ]
          },
          "metadata": {},
          "execution_count": 5
        }
      ],
      "source": [
        "s[1]=1\n",
        "s"
      ]
    },
    {
      "cell_type": "markdown",
      "metadata": {
        "id": "wTj1l3UlrhDQ"
      },
      "source": [
        "5.Create a 2D array which has medical code,medicine code,medicine quantity,price."
      ]
    },
    {
      "cell_type": "code",
      "execution_count": null,
      "metadata": {
        "colab": {
          "base_uri": "https://localhost:8080/"
        },
        "id": "X3OKS6ZXsbTE",
        "outputId": "5f39f215-5702-49f8-cb10-4fcfac206f52"
      },
      "outputs": [
        {
          "output_type": "execute_result",
          "data": {
            "text/plain": [
              "array([[   1,    2,    5,   25],\n",
              "       [  44,    5,   10, 2000],\n",
              "       [   8,    1,   10,  200]])"
            ]
          },
          "metadata": {},
          "execution_count": 6
        }
      ],
      "source": [
        "main=np.array([[1,2,5,25],[44,5,10,2000],[8,1,10,200]])\n",
        "main"
      ]
    },
    {
      "cell_type": "markdown",
      "metadata": {
        "id": "HCjXLGSftns0"
      },
      "source": [
        "6.Get the shape of the above 2D array."
      ]
    },
    {
      "cell_type": "code",
      "execution_count": null,
      "metadata": {
        "colab": {
          "base_uri": "https://localhost:8080/"
        },
        "id": "reg2eNJyttzL",
        "outputId": "c80b885e-8195-4700-f046-0e59a837cc5e"
      },
      "outputs": [
        {
          "output_type": "execute_result",
          "data": {
            "text/plain": [
              "(3, 4)"
            ]
          },
          "metadata": {},
          "execution_count": 7
        }
      ],
      "source": [
        "main.shape"
      ]
    },
    {
      "cell_type": "markdown",
      "metadata": {
        "id": "JNzLS1_Jt7yL"
      },
      "source": [
        "7.Get the datatype of the 2 arrays created in 2nd question"
      ]
    },
    {
      "cell_type": "code",
      "execution_count": null,
      "metadata": {
        "colab": {
          "base_uri": "https://localhost:8080/"
        },
        "id": "2xiUjjL9uDgI",
        "outputId": "b7244ef2-53ff-4402-bdd2-b006d7229639"
      },
      "outputs": [
        {
          "output_type": "stream",
          "name": "stdout",
          "text": [
            "<U13\n",
            "int64\n"
          ]
        }
      ],
      "source": [
        "print(arr2.dtype)\n",
        "print(arr3.dtype)"
      ]
    },
    {
      "cell_type": "markdown",
      "metadata": {
        "id": "DMipFYfPuxKW"
      },
      "source": [
        "8.Create a simple 3D array with particular medical details in regard with the medicine."
      ]
    },
    {
      "cell_type": "code",
      "execution_count": null,
      "metadata": {
        "colab": {
          "base_uri": "https://localhost:8080/"
        },
        "id": "uJd5jyLnwPjN",
        "outputId": "3f26d02f-590a-422e-ac43-84355b70dde9"
      },
      "outputs": [
        {
          "output_type": "execute_result",
          "data": {
            "text/plain": [
              "[[[1, 2, 5, 25], [1, 1, 5, 1000]],\n",
              " [[8, 1, 10, 200], [8, 5, 6, 8000]],\n",
              " [[44, 5, 10, 2000], [44, 1, 10, 28]]]"
            ]
          },
          "metadata": {},
          "execution_count": 9
        }
      ],
      "source": [
        "main1=([[[1,2,5,25],[1,1,5,1000]],[[8,1,10,200],[8,5,6,8000]],[[44,5,10,2000],[44,1,10,28]]])\n",
        "main1"
      ]
    },
    {
      "cell_type": "markdown",
      "metadata": {
        "id": "r7w-zWmTxanu"
      },
      "source": [
        "9.Find the dot product of the 2D matrix with the quantity available thereby finding the final worth of the medicines available."
      ]
    },
    {
      "cell_type": "code",
      "execution_count": null,
      "metadata": {
        "colab": {
          "base_uri": "https://localhost:8080/"
        },
        "id": "DpIEQfo0z3ar",
        "outputId": "23b08814-7a2a-43d5-d3fc-e4373ae873af"
      },
      "outputs": [
        {
          "output_type": "stream",
          "name": "stdout",
          "text": [
            "the worth of stock available in store 1 is: 125\n"
          ]
        }
      ],
      "source": [
        "a=np.dot(main[0,3],5)\n",
        "print(\"the worth of stock available in store 1 is:\",a)"
      ]
    },
    {
      "cell_type": "markdown",
      "metadata": {
        "id": "OE2arjep1Egn"
      },
      "source": [
        "10.Increase all vales of \"Main array \" by 1 using matrix addition"
      ]
    },
    {
      "cell_type": "code",
      "execution_count": null,
      "metadata": {
        "colab": {
          "base_uri": "https://localhost:8080/"
        },
        "id": "y33zGjKY1O2F",
        "outputId": "db73873d-3d56-4b17-905a-7445f601be72"
      },
      "outputs": [
        {
          "output_type": "execute_result",
          "data": {
            "text/plain": [
              "array([[   2,    3,    6,   26],\n",
              "       [  45,    6,   11, 2001],\n",
              "       [   9,    2,   11,  201]])"
            ]
          },
          "metadata": {},
          "execution_count": 11
        }
      ],
      "source": [
        "b=main+([1,1,1,1])\n",
        "b"
      ]
    },
    {
      "cell_type": "markdown",
      "metadata": {
        "id": "wtxAB6ki5MyR"
      },
      "source": [
        "11.Print the first, third, and last position of any random Matrix"
      ]
    },
    {
      "cell_type": "code",
      "execution_count": null,
      "metadata": {
        "colab": {
          "base_uri": "https://localhost:8080/"
        },
        "id": "DH3g9QP05hMz",
        "outputId": "f8d3c244-c1e1-4c56-f101-b998c78ce6a1"
      },
      "outputs": [
        {
          "output_type": "stream",
          "name": "stdout",
          "text": [
            "first position: 0\n",
            "third position: 100\n",
            "third position: 2025\n"
          ]
        }
      ],
      "source": [
        "num = np.array([0, 65, 100, 125, 2550, 2025])\n",
        "\n",
        "print('first position:',num[0])\n",
        "print('third position:',num[2])\n",
        "print('third position:',num[-1])"
      ]
    },
    {
      "cell_type": "markdown",
      "metadata": {
        "id": "J_ufhQ0e5rLQ"
      },
      "source": [
        "12.print even entries of  a array"
      ]
    },
    {
      "cell_type": "code",
      "execution_count": null,
      "metadata": {
        "colab": {
          "base_uri": "https://localhost:8080/"
        },
        "id": "kJ0QDjRt7Apc",
        "outputId": "8575c01c-7e83-4401-e198-dad7654055c3"
      },
      "outputs": [
        {
          "output_type": "stream",
          "name": "stdout",
          "text": [
            "[ 2  7 13 19 29 37]\n"
          ]
        }
      ],
      "source": [
        "import numpy as np\n",
        "x = np.array([2, 3, 7, 11, 13, 17, 19, 23, 29, 31, 37])\n",
        "print(x[0:11:2])"
      ]
    },
    {
      "cell_type": "markdown",
      "metadata": {
        "id": "QeDo6pjS7K_k"
      },
      "source": [
        "13.Array of all the even integers from 30 to 100"
      ]
    },
    {
      "cell_type": "code",
      "execution_count": null,
      "metadata": {
        "colab": {
          "base_uri": "https://localhost:8080/"
        },
        "id": "zrpQSGMt7Ppx",
        "outputId": "bd9ff93d-18c2-415b-e937-200fde9cd62a"
      },
      "outputs": [
        {
          "output_type": "stream",
          "name": "stdout",
          "text": [
            "[ 30  32  34  36  38  40  42  44  46  48  50  52  54  56  58  60  62  64\n",
            "  66  68  70  72  74  76  78  80  82  84  86  88  90  92  94  96  98 100]\n"
          ]
        }
      ],
      "source": [
        "import numpy as np\n",
        "array=np.arange(30,102,2)\n",
        "\n",
        "print(array)"
      ]
    },
    {
      "cell_type": "markdown",
      "metadata": {
        "id": "q3ClJV817ZFz"
      },
      "source": [
        "14.reverse the array"
      ]
    },
    {
      "cell_type": "code",
      "execution_count": null,
      "metadata": {
        "colab": {
          "base_uri": "https://localhost:8080/"
        },
        "id": "BS5ATnIS7hMy",
        "outputId": "9b3c0db7-4757-4097-dcb9-b296c4e3a36a"
      },
      "outputs": [
        {
          "output_type": "stream",
          "name": "stdout",
          "text": [
            "[6 5 4 2 1]\n"
          ]
        }
      ],
      "source": [
        "arr = np.array([1, 2, 4, 5, 6])\n",
        "\n",
        "reverse_arr = np.flipud(arr)\n",
        "print(reverse_arr)"
      ]
    },
    {
      "cell_type": "markdown",
      "metadata": {
        "id": "8gUtlAfr7snU"
      },
      "source": [
        "15.Arrange the 2D array from 5th question based on increasing values ."
      ]
    },
    {
      "cell_type": "code",
      "execution_count": null,
      "metadata": {
        "colab": {
          "base_uri": "https://localhost:8080/"
        },
        "id": "bSzc46ZR74wL",
        "outputId": "00d0602d-2cac-43c4-d075-3454e9f2dc9a"
      },
      "outputs": [
        {
          "output_type": "stream",
          "name": "stdout",
          "text": [
            "[[   1    2    5   25]\n",
            " [   5   10   44 2000]\n",
            " [   1    8   10  200]]\n"
          ]
        }
      ],
      "source": [
        "c=np.array([[1,2,5,25],[44,5,10,2000],[8,1,10,200]])\n",
        "print(np.sort(c))"
      ]
    },
    {
      "cell_type": "markdown",
      "source": [
        "16.Make a transpose of a array."
      ],
      "metadata": {
        "id": "0D1EPtUrUeAT"
      }
    },
    {
      "cell_type": "code",
      "source": [
        "arr1=np.arange(20).reshape(4,5)\n",
        "arr=np.array([[2,5,6,7],[8,9,56,7]])\n",
        "arr.T\n",
        "arr1.T"
      ],
      "metadata": {
        "colab": {
          "base_uri": "https://localhost:8080/"
        },
        "id": "FJTz1Pw-UinS",
        "outputId": "230a04a1-9055-4e16-9543-bb4e8e98ddb7"
      },
      "execution_count": null,
      "outputs": [
        {
          "output_type": "execute_result",
          "data": {
            "text/plain": [
              "array([[ 0,  5, 10, 15],\n",
              "       [ 1,  6, 11, 16],\n",
              "       [ 2,  7, 12, 17],\n",
              "       [ 3,  8, 13, 18],\n",
              "       [ 4,  9, 14, 19]])"
            ]
          },
          "metadata": {},
          "execution_count": 17
        }
      ]
    },
    {
      "cell_type": "markdown",
      "source": [
        "17.Dot product of two matrices."
      ],
      "metadata": {
        "id": "c9pB7CFRUpDa"
      }
    },
    {
      "cell_type": "code",
      "source": [
        "arr=np.random.randn(6,3)\n",
        "np.dot(arr.T,arr)"
      ],
      "metadata": {
        "colab": {
          "base_uri": "https://localhost:8080/"
        },
        "id": "-5IZeXWIU0MG",
        "outputId": "2573d35b-d5cf-479d-deba-7b55c6e8b2ea"
      },
      "execution_count": null,
      "outputs": [
        {
          "output_type": "execute_result",
          "data": {
            "text/plain": [
              "array([[ 4.24048421, -2.5243562 ,  0.8441783 ],\n",
              "       [-2.5243562 , 15.12975161,  0.254698  ],\n",
              "       [ 0.8441783 ,  0.254698  ,  2.19623741]])"
            ]
          },
          "metadata": {},
          "execution_count": 18
        }
      ]
    },
    {
      "cell_type": "markdown",
      "source": [
        "18.Make an array of zeroes"
      ],
      "metadata": {
        "id": "Z5jIBnABU83A"
      }
    },
    {
      "cell_type": "code",
      "source": [
        "a=np.zeros(10)\n",
        "print(a)\n",
        "b=np.zeros((3,6))\n",
        "print(b)\n",
        "c=np.empty((2,3,2))\n",
        "print(c)"
      ],
      "metadata": {
        "colab": {
          "base_uri": "https://localhost:8080/"
        },
        "id": "UTUhTqXkVFie",
        "outputId": "60597e09-f09f-4096-a711-aae2cea0867c"
      },
      "execution_count": null,
      "outputs": [
        {
          "output_type": "stream",
          "name": "stdout",
          "text": [
            "[0. 0. 0. 0. 0. 0. 0. 0. 0. 0.]\n",
            "[[0. 0. 0. 0. 0. 0.]\n",
            " [0. 0. 0. 0. 0. 0.]\n",
            " [0. 0. 0. 0. 0. 0.]]\n",
            "[[[4.94e-324 9.88e-324]\n",
            "  [2.47e-323 1.24e-322]\n",
            "  [2.47e-323 4.94e-323]]\n",
            "\n",
            " [[2.17e-322 9.88e-321]\n",
            "  [4.94e-324 3.95e-323]\n",
            "  [4.94e-323 9.88e-322]]]\n"
          ]
        }
      ]
    },
    {
      "cell_type": "markdown",
      "source": [
        "19.Indexing of an array(print 12 from index 5 to 8)"
      ],
      "metadata": {
        "id": "e1p8z5sMVLgO"
      }
    },
    {
      "cell_type": "code",
      "source": [
        "arr4=np.arange(10) #indexing\n",
        "print(arr4)\n",
        "arr4[5:8]=12\n",
        "print(arr4)"
      ],
      "metadata": {
        "colab": {
          "base_uri": "https://localhost:8080/"
        },
        "id": "XV7lgOdbVQPe",
        "outputId": "3f8dbdec-9a88-4c4a-ba73-4c1accf29785"
      },
      "execution_count": null,
      "outputs": [
        {
          "output_type": "stream",
          "name": "stdout",
          "text": [
            "[0 1 2 3 4 5 6 7 8 9]\n",
            "[ 0  1  2  3  4 12 12 12  8  9]\n"
          ]
        }
      ]
    },
    {
      "cell_type": "markdown",
      "source": [
        "20.Delete arr4"
      ],
      "metadata": {
        "id": "S8ED6SQFVgaf"
      }
    },
    {
      "cell_type": "code",
      "source": [
        "del(arr4)\n",
        "print(arr4)"
      ],
      "metadata": {
        "colab": {
          "base_uri": "https://localhost:8080/",
          "height": 183
        },
        "id": "GVnXvNX-VhB1",
        "outputId": "7cb360b9-2259-4221-b457-0abea703b12e"
      },
      "execution_count": null,
      "outputs": [
        {
          "output_type": "error",
          "ename": "NameError",
          "evalue": "ignored",
          "traceback": [
            "\u001b[0;31m---------------------------------------------------------------------------\u001b[0m",
            "\u001b[0;31mNameError\u001b[0m                                 Traceback (most recent call last)",
            "\u001b[0;32m<ipython-input-21-0bb35016d814>\u001b[0m in \u001b[0;36m<module>\u001b[0;34m\u001b[0m\n\u001b[1;32m      1\u001b[0m \u001b[0;32mdel\u001b[0m\u001b[0;34m(\u001b[0m\u001b[0marr4\u001b[0m\u001b[0;34m)\u001b[0m\u001b[0;34m\u001b[0m\u001b[0;34m\u001b[0m\u001b[0m\n\u001b[0;32m----> 2\u001b[0;31m \u001b[0mprint\u001b[0m\u001b[0;34m(\u001b[0m\u001b[0marr4\u001b[0m\u001b[0;34m)\u001b[0m\u001b[0;34m\u001b[0m\u001b[0;34m\u001b[0m\u001b[0m\n\u001b[0m",
            "\u001b[0;31mNameError\u001b[0m: name 'arr4' is not defined"
          ]
        }
      ]
    }
  ],
  "metadata": {
    "colab": {
      "provenance": [],
      "include_colab_link": true
    },
    "kernelspec": {
      "display_name": "Python 3 (ipykernel)",
      "language": "python",
      "name": "python3"
    },
    "language_info": {
      "codemirror_mode": {
        "name": "ipython",
        "version": 3
      },
      "file_extension": ".py",
      "mimetype": "text/x-python",
      "name": "python",
      "nbconvert_exporter": "python",
      "pygments_lexer": "ipython3",
      "version": "3.9.12"
    }
  },
  "nbformat": 4,
  "nbformat_minor": 0
}