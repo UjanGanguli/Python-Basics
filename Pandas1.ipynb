{
  "nbformat": 4,
  "nbformat_minor": 0,
  "metadata": {
    "colab": {
      "provenance": [],
      "include_colab_link": true
    },
    "kernelspec": {
      "name": "python3",
      "display_name": "Python 3"
    },
    "language_info": {
      "name": "python"
    }
  },
  "cells": [
    {
      "cell_type": "markdown",
      "metadata": {
        "id": "view-in-github",
        "colab_type": "text"
      },
      "source": [
        "<a href=\"https://colab.research.google.com/github/UjanGanguli/Python-Basics/blob/main/Pandas1.ipynb\" target=\"_parent\"><img src=\"https://colab.research.google.com/assets/colab-badge.svg\" alt=\"Open In Colab\"/></a>"
      ]
    },
    {
      "cell_type": "markdown",
      "source": [
        "PANDAS 1"
      ],
      "metadata": {
        "id": "pQ8dCzN9aFQe"
      }
    },
    {
      "cell_type": "code",
      "source": [
        "import numpy as np\n",
        "import pandas as pd"
      ],
      "metadata": {
        "id": "2hONPe7MbgwC"
      },
      "execution_count": null,
      "outputs": []
    },
    {
      "cell_type": "markdown",
      "source": [
        "1. create a dataframe with details(name and name of illness) of 5 Patients."
      ],
      "metadata": {
        "id": "rbNawEWNaz79"
      }
    },
    {
      "cell_type": "code",
      "source": [
        "data = [[\"abc\",\"typhoid\"],[\"xyz\",\"malaria\"],[\"mno\",\"fever\"],[\"rst\",\"viral\"],[\"www\",\"cough and cold\"]]\n",
        "df = pd.DataFrame(data,columns=[\"Name\",\"Name of Illness\"])\n",
        "print(df)"
      ],
      "metadata": {
        "colab": {
          "base_uri": "https://localhost:8080/"
        },
        "id": "5sBcNqz6bmLz",
        "outputId": "d3e039c2-3375-4d2f-f152-601456a01ab8"
      },
      "execution_count": null,
      "outputs": [
        {
          "output_type": "stream",
          "name": "stdout",
          "text": [
            "  Name\\t Name of Illness\n",
            "0    abc         typhoid\n",
            "1    xyz         malaria\n",
            "2    mno           fever\n",
            "3    rst           viral\n",
            "4    www  cough and cold\n"
          ]
        }
      ]
    },
    {
      "cell_type": "markdown",
      "source": [
        "2. Creating list of covid cases in 2021 with respect to months. And creating a dataframe from list."
      ],
      "metadata": {
        "id": "QUehEOOacZl0"
      }
    },
    {
      "cell_type": "code",
      "source": [
        "data2 = [1200,6300,6300,6420,2300,3200,3300,5400,5650,7600]\n",
        "df2 = pd.DataFrame(data2,columns=[\"covid cases in 2021\"])\n",
        "print(\"dataframe : \")\n",
        "print(df2)"
      ],
      "metadata": {
        "colab": {
          "base_uri": "https://localhost:8080/"
        },
        "id": "GyiDjHubdH7Y",
        "outputId": "2f2db544-4d55-4257-f7cb-5fe8515063d2"
      },
      "execution_count": null,
      "outputs": [
        {
          "output_type": "stream",
          "name": "stdout",
          "text": [
            "dataframe : \n",
            "   covid cases in 2021\n",
            "0                 1200\n",
            "1                 6300\n",
            "2                 6300\n",
            "3                 6420\n",
            "4                 2300\n",
            "5                 3200\n",
            "6                 3300\n",
            "7                 5400\n",
            "8                 5650\n",
            "9                 7600\n"
          ]
        }
      ]
    },
    {
      "cell_type": "markdown",
      "source": [
        "3. Create a dataframe with details(name and age) of 5 Patients."
      ],
      "metadata": {
        "id": "2DouWyJ2djHL"
      }
    },
    {
      "cell_type": "code",
      "source": [
        "data3 = [[\"abc\",28],[\"xyz\",23],[\"mno\",27],[\"rst\",18],[\"www\",19]]\n",
        "df3 = pd.DataFrame(data3,columns=[\"Name\",\"Age\"])\n",
        "print(df3)"
      ],
      "metadata": {
        "colab": {
          "base_uri": "https://localhost:8080/"
        },
        "id": "z8ITRoWDdxpR",
        "outputId": "a4ad9c9b-c8b0-4f5b-f3c1-6fbd4e612adf"
      },
      "execution_count": null,
      "outputs": [
        {
          "output_type": "stream",
          "name": "stdout",
          "text": [
            "  Name  Age\n",
            "0  abc   28\n",
            "1  xyz   23\n",
            "2  mno   27\n",
            "3  rst   18\n",
            "4  www   19\n"
          ]
        }
      ]
    },
    {
      "cell_type": "markdown",
      "source": [
        "4. create a dataframe with details of 2 patient for patient1 age column is missing values"
      ],
      "metadata": {
        "id": "VdELW58PeEyH"
      }
    },
    {
      "cell_type": "code",
      "source": [
        "p1=[{\"PID\":\"112\",\"Name\":\"xyz\"},{\"PID\":\"111\",\"Name\":\"abc\",\"Age\":39}]\n",
        "dfp = pd.DataFrame(p1)\n",
        "print(dfp)"
      ],
      "metadata": {
        "colab": {
          "base_uri": "https://localhost:8080/"
        },
        "id": "kL3Co9preT2n",
        "outputId": "d16f18e6-57c2-412d-8b0d-058d864caaa7"
      },
      "execution_count": null,
      "outputs": [
        {
          "output_type": "stream",
          "name": "stdout",
          "text": [
            "   PID Name   Age\n",
            "0  112  xyz   NaN\n",
            "1  111  abc  39.0\n"
          ]
        }
      ]
    },
    {
      "cell_type": "markdown",
      "source": [
        "5. Details of patient with respect to DataFrame of dictionary of series."
      ],
      "metadata": {
        "id": "s61rGogNepNI"
      }
    },
    {
      "cell_type": "code",
      "source": [
        "data4 = {\"Rooom no.\":pd.Series([5,4,3],index=['abhi','bhargav','charan']),\n",
        "          \"Name of Illness\":pd.Series([ 'typhoid','malaria','covid','jaundice'],index=['abhi','bhargav','charan','Dinesh'])}\n",
        "df4 = pd.DataFrame(data4)\n",
        "print(df4)"
      ],
      "metadata": {
        "colab": {
          "base_uri": "https://localhost:8080/"
        },
        "id": "K6Hy8KvVfQ-m",
        "outputId": "f5592d6b-8dbf-4b4c-9148-7b98d05ed80e"
      },
      "execution_count": null,
      "outputs": [
        {
          "output_type": "stream",
          "name": "stdout",
          "text": [
            "         Rooom no. Name of Illness\n",
            "Dinesh         NaN        jaundice\n",
            "abhi           5.0         typhoid\n",
            "bhargav        4.0         malaria\n",
            "charan         3.0           covid\n"
          ]
        }
      ]
    },
    {
      "cell_type": "markdown",
      "source": [
        "6. Select Name of Illness column from Dataframe."
      ],
      "metadata": {
        "id": "zBNbfuaIgGmF"
      }
    },
    {
      "cell_type": "code",
      "source": [
        "print(\"Illness details of all student\")\n",
        "print(df4['Name of Illness'])"
      ],
      "metadata": {
        "colab": {
          "base_uri": "https://localhost:8080/"
        },
        "id": "2XKDgZ6NgVTO",
        "outputId": "fa0b2810-5f91-4474-a375-e81ae77fc2a0"
      },
      "execution_count": null,
      "outputs": [
        {
          "output_type": "stream",
          "name": "stdout",
          "text": [
            "Illness details of all student\n",
            "Dinesh     jaundice\n",
            "abhi        typhoid\n",
            "bhargav     malaria\n",
            "charan        covid\n",
            "Name: Name of Illness, dtype: object\n"
          ]
        }
      ]
    },
    {
      "cell_type": "markdown",
      "source": [
        "7. Adding Doctor Assigned column passing as a series."
      ],
      "metadata": {
        "id": "b74FG6h3g7-N"
      }
    },
    {
      "cell_type": "code",
      "source": [
        "data5 = {\"Rooom no.\":pd.Series([5,4,3],index=['abhi','bhargav','charan']),\n",
        "          \"Name of Illness\":pd.Series([ 'typhoid','malaria','covid','jaundice'],index=['abhi','bhargav','charan','Dinesh'])}\n",
        "df5 = pd.DataFrame(data5)\n",
        "print(df5)\n",
        "print(\"adding a new column passing as series: \")\n",
        "df5['Doctor']=pd.Series(['Dr. Dishant','Dr. Shashank','Dr. Ujan'],index=['abhi','bhargav','charan'])\n",
        "print(df5)\n"
      ],
      "metadata": {
        "colab": {
          "base_uri": "https://localhost:8080/"
        },
        "id": "drsp5fuagpo9",
        "outputId": "004ab650-dbd3-4a1d-8238-c8b8af7c44bd"
      },
      "execution_count": null,
      "outputs": [
        {
          "output_type": "stream",
          "name": "stdout",
          "text": [
            "         Rooom no. Name of Illness\n",
            "Dinesh         NaN        jaundice\n",
            "abhi           5.0         typhoid\n",
            "bhargav        4.0         malaria\n",
            "charan         3.0           covid\n",
            "adding a new column passing as series: \n",
            "         Rooom no. Name of Illness        Doctor\n",
            "Dinesh         NaN        jaundice           NaN\n",
            "abhi           5.0         typhoid   Dr. Dishant\n",
            "bhargav        4.0         malaria  Dr. Shashank\n",
            "charan         3.0           covid      Dr. Ujan\n"
          ]
        }
      ]
    },
    {
      "cell_type": "markdown",
      "source": [
        "8. Adding month of admission column column."
      ],
      "metadata": {
        "id": "3cI14Vnammw3"
      }
    },
    {
      "cell_type": "code",
      "source": [
        "df5['Month']=pd.Series([12,11,8],index=['abhi','bhargav','charan'])\n",
        "print(df5)"
      ],
      "metadata": {
        "colab": {
          "base_uri": "https://localhost:8080/"
        },
        "id": "BIZ4n5ndm1uO",
        "outputId": "6bb1707a-cfae-4ca2-949a-29f8ffef156d"
      },
      "execution_count": null,
      "outputs": [
        {
          "output_type": "stream",
          "name": "stdout",
          "text": [
            "         Rooom no. Name of Illness        Doctor  Month\n",
            "Dinesh         NaN        jaundice           NaN    NaN\n",
            "abhi           5.0         typhoid   Dr. Dishant   12.0\n",
            "bhargav        4.0         malaria  Dr. Shashank   11.0\n",
            "charan         3.0           covid      Dr. Ujan    8.0\n"
          ]
        }
      ]
    },
    {
      "cell_type": "markdown",
      "source": [
        "9. Delete Column month from the data"
      ],
      "metadata": {
        "id": "3sJWO4kJnWhO"
      }
    },
    {
      "cell_type": "code",
      "source": [
        "df5.pop(\"Month\") print(df5)"
      ],
      "metadata": {
        "colab": {
          "base_uri": "https://localhost:8080/"
        },
        "id": "46hPIgu7nbbW",
        "outputId": "f981229b-c6f8-479d-c5cd-4ba3a923f4bf"
      },
      "execution_count": null,
      "outputs": [
        {
          "output_type": "stream",
          "name": "stdout",
          "text": [
            "         Rooom no. Name of Illness        Doctor\n",
            "Dinesh         NaN        jaundice           NaN\n",
            "abhi           5.0         typhoid   Dr. Dishant\n",
            "bhargav        4.0         malaria  Dr. Shashank\n",
            "charan         3.0           covid      Dr. Ujan\n"
          ]
        }
      ]
    },
    {
      "cell_type": "markdown",
      "source": [
        "10. Create a dataframe of admitted days in hospital."
      ],
      "metadata": {
        "id": "tjYs_tpcotNl"
      }
    },
    {
      "cell_type": "code",
      "source": [
        "data6={\"Admitted days\":pd.Series([45,48,36],index=['Dinesh','abhi','bhargav'])}\n",
        "df6=pd.DataFrame(data6)\n",
        "print(df6)"
      ],
      "metadata": {
        "colab": {
          "base_uri": "https://localhost:8080/"
        },
        "id": "udg6Ggf3otll",
        "outputId": "aea3d3b8-e952-4a53-ead2-e16f63010404"
      },
      "execution_count": null,
      "outputs": [
        {
          "output_type": "stream",
          "name": "stdout",
          "text": [
            "         Admitted days\n",
            "Dinesh              45\n",
            "abhi                48\n",
            "bhargav             36\n"
          ]
        }
      ]
    },
    {
      "cell_type": "markdown",
      "source": [
        "11. selection by label of patient name."
      ],
      "metadata": {
        "id": "Ax1j7Pb2nrsW"
      }
    },
    {
      "cell_type": "code",
      "source": [
        "data6={\"Admitted days\":pd.Series([45,48,36],index=['Dinesh','abhi','bhargav'])}\n",
        "df6=pd.DataFrame(data6)\n",
        "print(df6)\n",
        "print(\"Retriving data of Dinesh\")\n",
        "print(df6.loc['Dinesh'])"
      ],
      "metadata": {
        "colab": {
          "base_uri": "https://localhost:8080/"
        },
        "id": "miVRaqGpnsBV",
        "outputId": "0239a96c-230c-4080-da7f-b0137c174952"
      },
      "execution_count": null,
      "outputs": [
        {
          "output_type": "stream",
          "name": "stdout",
          "text": [
            "         Admitted days\n",
            "Dinesh              45\n",
            "abhi                48\n",
            "bhargav             36\n",
            "Retriving data of Dinesh\n",
            "Admitted days    45\n",
            "Name: Dinesh, dtype: int64\n"
          ]
        }
      ]
    },
    {
      "cell_type": "markdown",
      "source": [
        "12. selection by location of admitted days"
      ],
      "metadata": {
        "id": "3rANsbi2pYjT"
      }
    },
    {
      "cell_type": "code",
      "source": [
        "print(\"Retriving data of bhargav\")\n",
        "print(df6.iloc[2])"
      ],
      "metadata": {
        "colab": {
          "base_uri": "https://localhost:8080/"
        },
        "id": "Og1CjpE3pYH1",
        "outputId": "643b9fb2-fc79-44b3-ad8a-02145288ef9d"
      },
      "execution_count": null,
      "outputs": [
        {
          "output_type": "stream",
          "name": "stdout",
          "text": [
            "Retriving data of bhargav\n",
            "Admitted days    36\n",
            "Name: bhargav, dtype: int64\n"
          ]
        }
      ]
    },
    {
      "cell_type": "markdown",
      "source": [
        "13. Retreiving data of patient using slicing rows."
      ],
      "metadata": {
        "id": "vPwFD_Iup1LE"
      }
    },
    {
      "cell_type": "code",
      "source": [
        "data7={\"Admitted days1\":pd.Series([45,48,36],index=['Dinesh','abhi','bhargav']),\n",
        "       \"Admitted days2\":pd.Series([46,37,46],index=['Dinesh','abhi','bhargav']),\n",
        "       \"Admitted days3\":pd.Series([31,35,26],index=['Dinesh','abhi','bhargav']),\n",
        "       \"Admitted days4\":pd.Series([45,48,36],index=['Dinesh','abhi','bhargav'])}\n",
        "df7=pd.DataFrame(data7)\n",
        "print(df7)\n",
        "print(\"\\nDetails of abhi and bhargav\")\n",
        "print(df7[1:])\n",
        "print(\"\\nDetails of Dinesh and abhi\")\n",
        "print(df7[0:2])"
      ],
      "metadata": {
        "colab": {
          "base_uri": "https://localhost:8080/"
        },
        "id": "WBeIf3aQp1dD",
        "outputId": "9dba9af5-610e-4fb1-f782-6bcd79e9e40e"
      },
      "execution_count": null,
      "outputs": [
        {
          "output_type": "stream",
          "name": "stdout",
          "text": [
            "         Admitted days1  Admitted days2  Admitted days3  Admitted days4\n",
            "Dinesh               45              46              31              45\n",
            "abhi                 48              37              35              48\n",
            "bhargav              36              46              26              36\n",
            "\n",
            "Details of abhi and bhargav\n",
            "         Admitted days1  Admitted days2  Admitted days3  Admitted days4\n",
            "abhi                 48              37              35              48\n",
            "bhargav              36              46              26              36\n",
            "\n",
            "Details of Dinesh and abhi\n",
            "        Admitted days1  Admitted days2  Admitted days3  Admitted days4\n",
            "Dinesh              45              46              31              45\n",
            "abhi                48              37              35              48\n"
          ]
        }
      ]
    },
    {
      "cell_type": "markdown",
      "source": [
        "14. Adding rows to data."
      ],
      "metadata": {
        "id": "ssdIlR_FrQUC"
      }
    },
    {
      "cell_type": "code",
      "source": [
        "df8 = pd.DataFrame([[1,2],[3,4]],columns=['a','b'])\n",
        "print(df8,\"\\n\")\n",
        "df9=pd.DataFrame([[5,6],[7,8]],columns=['a','b'])\n",
        "print(df9)\n",
        "df10=pd.DataFrame([[10,20],[30,40]],columns=['a','b'])\n",
        "df8 = df8.append(df9)\n",
        "df8 = df8.append(df10)\n",
        "print(df8)"
      ],
      "metadata": {
        "colab": {
          "base_uri": "https://localhost:8080/"
        },
        "id": "vauCh1EYrPr6",
        "outputId": "c0d462ae-db4d-425d-e4ae-97ee6451249d"
      },
      "execution_count": null,
      "outputs": [
        {
          "output_type": "stream",
          "name": "stdout",
          "text": [
            "   a  b\n",
            "0  1  2\n",
            "1  3  4 \n",
            "\n",
            "   a  b\n",
            "0  5  6\n",
            "1  7  8\n",
            "    a   b\n",
            "0   1   2\n",
            "1   3   4\n",
            "0   5   6\n",
            "1   7   8\n",
            "0  10  20\n",
            "1  30  40\n"
          ]
        }
      ]
    },
    {
      "cell_type": "markdown",
      "source": [
        "15. creating empty dataframe."
      ],
      "metadata": {
        "id": "i5fFUlclrwq8"
      }
    },
    {
      "cell_type": "code",
      "source": [
        "df11 = pd.DataFrame()\n",
        "print(df11)"
      ],
      "metadata": {
        "colab": {
          "base_uri": "https://localhost:8080/"
        },
        "id": "GAJbidUyrwZ9",
        "outputId": "00db5819-ebe6-4379-bd13-abe7e6de49a0"
      },
      "execution_count": null,
      "outputs": [
        {
          "output_type": "stream",
          "name": "stdout",
          "text": [
            "Empty DataFrame\n",
            "Columns: []\n",
            "Index: []\n"
          ]
        }
      ]
    },
    {
      "cell_type": "markdown",
      "source": [
        "16. How to get the items of series A not present in series B?"
      ],
      "metadata": {
        "id": "2hFUehjtQJEJ"
      }
    },
    {
      "cell_type": "code",
      "source": [
        "p1 = pd.Series([2, 4, 6, 8, 10])\n",
        "p2 = pd.Series([8, 10, 12, 14, 16])\n",
        "p1[~p1.isin(p2)]"
      ],
      "metadata": {
        "colab": {
          "base_uri": "https://localhost:8080/"
        },
        "id": "9IEq06GRQIv9",
        "outputId": "43ea8425-9678-466e-e97e-f0faa4d02cc7"
      },
      "execution_count": null,
      "outputs": [
        {
          "output_type": "execute_result",
          "data": {
            "text/plain": [
              "0    2\n",
              "1    4\n",
              "2    6\n",
              "dtype: int64"
            ]
          },
          "metadata": {},
          "execution_count": 3
        }
      ]
    },
    {
      "cell_type": "markdown",
      "source": [
        "17. How to get frequency counts of unique items of a series?"
      ],
      "metadata": {
        "id": "9EW3UIdkQfNQ"
      }
    },
    {
      "cell_type": "code",
      "source": [
        "p= pd.Series(np.take(list('pqrstu'), np.random.randint(6, size=17)))\n",
        "p = pd.Series(np.take(list('pqrstu'), np.random.randint(6, size=17)))\n",
        "p.value_counts()"
      ],
      "metadata": {
        "colab": {
          "base_uri": "https://localhost:8080/"
        },
        "id": "CFEhQza2Qe6D",
        "outputId": "2ce7169f-ddcf-4971-ea43-fc52bdb25b35"
      },
      "execution_count": null,
      "outputs": [
        {
          "output_type": "execute_result",
          "data": {
            "text/plain": [
              "q    5\n",
              "s    5\n",
              "t    3\n",
              "u    2\n",
              "p    1\n",
              "r    1\n",
              "dtype: int64"
            ]
          },
          "metadata": {},
          "execution_count": 4
        }
      ]
    },
    {
      "cell_type": "markdown",
      "source": [
        "18. How to convert a numpy array to a dataframe of given shape?"
      ],
      "metadata": {
        "id": "B5Q6TWDeQz96"
      }
    },
    {
      "cell_type": "code",
      "source": [
        "p = pd.Series(np.random.randint(1, 7, 35))\n",
        "p = pd.Series(np.random.randint(1, 7, 35))\n",
        "info = pd.DataFrame(p.values.reshape(7,5))\n",
        "print(info)"
      ],
      "metadata": {
        "colab": {
          "base_uri": "https://localhost:8080/"
        },
        "id": "69doqaHxQzsQ",
        "outputId": "10607efc-c450-44f7-94c6-1182e55098b9"
      },
      "execution_count": null,
      "outputs": [
        {
          "output_type": "stream",
          "name": "stdout",
          "text": [
            "   0  1  2  3  4\n",
            "0  1  5  1  2  3\n",
            "1  1  3  2  4  3\n",
            "2  1  5  6  4  1\n",
            "3  4  5  4  4  4\n",
            "4  5  4  4  1  3\n",
            "5  3  1  2  5  5\n",
            "6  6  1  3  6  1\n"
          ]
        }
      ]
    },
    {
      "cell_type": "markdown",
      "source": [
        "19. Change the data type of given a column or a Series."
      ],
      "metadata": {
        "id": "DH8d5ttKRA0h"
      }
    },
    {
      "cell_type": "code",
      "source": [
        "s1 = pd.Series(['100', '200', 'python', '300.12', '400'])\n",
        "print(\"Original Data Series:\")\n",
        "print(s1)\n",
        "print(\"Change the said data type to numeric:\")\n",
        "s2 = pd.to_numeric(s1, errors='coerce')\n",
        "print(s2)"
      ],
      "metadata": {
        "colab": {
          "base_uri": "https://localhost:8080/"
        },
        "id": "h0xU3RkhRAkx",
        "outputId": "d6f5f12f-9217-49c2-e0d2-f41fed2dc581"
      },
      "execution_count": null,
      "outputs": [
        {
          "output_type": "stream",
          "name": "stdout",
          "text": [
            "Original Data Series:\n",
            "0       100\n",
            "1       200\n",
            "2    python\n",
            "3    300.12\n",
            "4       400\n",
            "dtype: object\n",
            "Change the said data type to numeric:\n",
            "0    100.00\n",
            "1    200.00\n",
            "2       NaN\n",
            "3    300.12\n",
            "4    400.00\n",
            "dtype: float64\n"
          ]
        }
      ]
    },
    {
      "cell_type": "markdown",
      "source": [
        "20. Add,subtract,multiple and divide two Pandas Series of items"
      ],
      "metadata": {
        "id": "7G3GwXmBRWko"
      }
    },
    {
      "cell_type": "code",
      "source": [
        "ds1 = pd.Series([2, 4, 6, 8, 10])\n",
        "ds2 = pd.Series([1, 3, 5, 7, 9])\n",
        "ds = ds1 + ds2\n",
        "print(\"Add two Series:\")\n",
        "print(ds)\n",
        "print(\"Subtract two Series:\")\n",
        "ds = ds1 - ds2\n",
        "print(ds)\n",
        "print(\"Multiply two Series:\")\n",
        "ds = ds1 * ds2\n",
        "print(ds)\n",
        "print(\"Divide Series1 by Series2:\")\n",
        "ds = ds1 / ds2\n",
        "print(ds)"
      ],
      "metadata": {
        "colab": {
          "base_uri": "https://localhost:8080/"
        },
        "id": "HOHW5sbXRWS9",
        "outputId": "c25fc2ed-a85b-44a6-e225-8cab9e92655b"
      },
      "execution_count": null,
      "outputs": [
        {
          "output_type": "stream",
          "name": "stdout",
          "text": [
            "Add two Series:\n",
            "0     3\n",
            "1     7\n",
            "2    11\n",
            "3    15\n",
            "4    19\n",
            "dtype: int64\n",
            "Subtract two Series:\n",
            "0    1\n",
            "1    1\n",
            "2    1\n",
            "3    1\n",
            "4    1\n",
            "dtype: int64\n",
            "Multiply two Series:\n",
            "0     2\n",
            "1    12\n",
            "2    30\n",
            "3    56\n",
            "4    90\n",
            "dtype: int64\n",
            "Divide Series1 by Series2:\n",
            "0    2.000000\n",
            "1    1.333333\n",
            "2    1.200000\n",
            "3    1.142857\n",
            "4    1.111111\n",
            "dtype: float64\n"
          ]
        }
      ]
    }
  ]
}