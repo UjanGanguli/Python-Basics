{
  "nbformat": 4,
  "nbformat_minor": 0,
  "metadata": {
    "colab": {
      "provenance": [],
      "include_colab_link": true
    },
    "kernelspec": {
      "name": "python3",
      "display_name": "Python 3"
    },
    "language_info": {
      "name": "python"
    }
  },
  "cells": [
    {
      "cell_type": "markdown",
      "metadata": {
        "id": "view-in-github",
        "colab_type": "text"
      },
      "source": [
        "<a href=\"https://colab.research.google.com/github/UjanGanguli/Python-Basics/blob/main/Pandas.ipynb\" target=\"_parent\"><img src=\"https://colab.research.google.com/assets/colab-badge.svg\" alt=\"Open In Colab\"/></a>"
      ]
    },
    {
      "cell_type": "markdown",
      "source": [
        "Pandas"
      ],
      "metadata": {
        "id": "JGK5Lki1f3yC"
      }
    },
    {
      "cell_type": "code",
      "execution_count": null,
      "metadata": {
        "id": "vm6t0eTnWjW4"
      },
      "outputs": [],
      "source": [
        "import numpy as np\n",
        "import pandas as pd"
      ]
    },
    {
      "cell_type": "code",
      "source": [
        "#creating empty data frame\n",
        "df1=pd.DataFrame()\n",
        "print(df1)"
      ],
      "metadata": {
        "colab": {
          "base_uri": "https://localhost:8080/"
        },
        "id": "xpqF9BF2ZzpA",
        "outputId": "135e371d-dd9e-4660-a835-70ec39cc6517"
      },
      "execution_count": null,
      "outputs": [
        {
          "output_type": "stream",
          "name": "stdout",
          "text": [
            "Empty DataFrame\n",
            "Columns: []\n",
            "Index: []\n"
          ]
        }
      ]
    },
    {
      "cell_type": "code",
      "source": [
        "#creation of list\n",
        "data2=[11,22,33,44,55,66,77,88,99]\n",
        "#create a dataframe from list\n",
        "df2=pd.DataFrame(data2)\n",
        "print(\"Dataframe:\")\n",
        "print(df2)"
      ],
      "metadata": {
        "colab": {
          "base_uri": "https://localhost:8080/"
        },
        "id": "QA-xcL7QaEMu",
        "outputId": "b6a0e829-f62b-4a91-eb05-42a24e201de6"
      },
      "execution_count": null,
      "outputs": [
        {
          "output_type": "stream",
          "name": "stdout",
          "text": [
            "Dataframe:\n",
            "    0\n",
            "0  11\n",
            "1  22\n",
            "2  33\n",
            "3  44\n",
            "4  55\n",
            "5  66\n",
            "6  77\n",
            "7  88\n",
            "8  99\n"
          ]
        }
      ]
    },
    {
      "cell_type": "code",
      "source": [
        "#creation of list on lists\n",
        "data3=[[\"aaa\",8.5],[\"bbb\",9],[\"ccc\",7],[\"ddd\",8]]\n",
        "df3=pd.DataFrame(data3,columns=[\"Name\",\"CGPA\"])\n",
        "print(df3)"
      ],
      "metadata": {
        "colab": {
          "base_uri": "https://localhost:8080/"
        },
        "id": "ZHwOMHGEa3lv",
        "outputId": "8a10a305-4a5e-4873-cd1f-7ae8e2433753"
      },
      "execution_count": null,
      "outputs": [
        {
          "output_type": "stream",
          "name": "stdout",
          "text": [
            "  Name  CGPA\n",
            "0  aaa   8.5\n",
            "1  bbb   9.0\n",
            "2  ccc   7.0\n",
            "3  ddd   8.0\n"
          ]
        }
      ]
    },
    {
      "cell_type": "code",
      "source": [
        "#naming the index\n",
        "#adding 2 list seperatly\n",
        "data4={\"Name\":[\"AAA\",\"BBB\",\"CCC\",\"DDD\"],\"Age\":[18,19,27,23]}\n",
        "df4=pd.DataFrame(data4,index=[\"row1\",\"row2\",\"row3\",\"row4\"])\n",
        "print(df4)"
      ],
      "metadata": {
        "colab": {
          "base_uri": "https://localhost:8080/"
        },
        "id": "wbA3m0B2daqM",
        "outputId": "cf645b04-70fb-437e-c9e3-d4430bd268cb"
      },
      "execution_count": null,
      "outputs": [
        {
          "output_type": "stream",
          "name": "stdout",
          "text": [
            "     Name  Age\n",
            "row1  AAA   18\n",
            "row2  BBB   19\n",
            "row3  CCC   27\n",
            "row4  DDD   23\n"
          ]
        }
      ]
    },
    {
      "cell_type": "code",
      "source": [
        "#missing value in a row with index\n",
        "data5=[{\"xyz\":1,\"wxy\":2},{\"xyz\":11,\"wxy\":22,\"vwx\":33}]\n",
        "df5=pd.DataFrame(data5,index=[\"missing value\",\"with value\"])\n",
        "print(df5)"
      ],
      "metadata": {
        "colab": {
          "base_uri": "https://localhost:8080/"
        },
        "id": "wUR-VsKmemHi",
        "outputId": "4963aefd-4902-42ea-9fbb-6379b20c737f"
      },
      "execution_count": null,
      "outputs": [
        {
          "output_type": "stream",
          "name": "stdout",
          "text": [
            "               xyz  wxy   vwx\n",
            "missing value    1    2   NaN\n",
            "with value      11   22  33.0\n"
          ]
        }
      ]
    },
    {
      "cell_type": "code",
      "source": [
        "#creating dataframe with dict of series\n",
        "data6={\"marks(1)\":pd.Series([45,48,36,41],index=[118,119,120,121]),\n",
        "       \"attendance\":pd.Series([88,94,54],index=[118,119,120])}\n",
        "df6=pd.DataFrame(data6)\n",
        "print(df6)"
      ],
      "metadata": {
        "colab": {
          "base_uri": "https://localhost:8080/"
        },
        "id": "-FLvmW6liiYH",
        "outputId": "dbc4d4e0-c0e8-4449-f15e-a9df35470fd3"
      },
      "execution_count": null,
      "outputs": [
        {
          "output_type": "stream",
          "name": "stdout",
          "text": [
            "     marks(1)  attendance\n",
            "118        45        88.0\n",
            "119        48        94.0\n",
            "120        36        54.0\n",
            "121        41         NaN\n"
          ]
        }
      ]
    },
    {
      "cell_type": "code",
      "source": [
        "#selection of column from dataframe\n",
        "print(\"Atttendance of all students:\")\n",
        "print(df6[\"attendance\"])"
      ],
      "metadata": {
        "id": "KfDeI5JGkzf9",
        "colab": {
          "base_uri": "https://localhost:8080/"
        },
        "outputId": "59ea8b44-c2dc-469e-a96e-728c065ee43b"
      },
      "execution_count": null,
      "outputs": [
        {
          "output_type": "stream",
          "name": "stdout",
          "text": [
            "Atttendance of all students:\n",
            "118    88.0\n",
            "119    94.0\n",
            "120    54.0\n",
            "121     NaN\n",
            "Name: attendance, dtype: float64\n"
          ]
        }
      ]
    },
    {
      "cell_type": "code",
      "source": [
        "#adding new column\n",
        "df6[\"marks(2)\"]=pd.Series([40,32,47,39],index=[118,119,120,121])\n",
        "print(df6)"
      ],
      "metadata": {
        "colab": {
          "base_uri": "https://localhost:8080/"
        },
        "id": "BGlqLmZCiYuX",
        "outputId": "9c68c7e0-8f44-43d9-f0d1-f3330c9930b1"
      },
      "execution_count": null,
      "outputs": [
        {
          "output_type": "stream",
          "name": "stdout",
          "text": [
            "     marks(1)  attendance  marks(2)\n",
            "118        45        88.0        40\n",
            "119        48        94.0        32\n",
            "120        36        54.0        47\n",
            "121        41         NaN        39\n"
          ]
        }
      ]
    },
    {
      "cell_type": "code",
      "source": [
        "df6[\"marks(FAT)\"]=pd.Series([85,65,25,48],index=[118,119,120,121])\n",
        "print(df6)"
      ],
      "metadata": {
        "colab": {
          "base_uri": "https://localhost:8080/"
        },
        "id": "SlrDoIKxkW6Q",
        "outputId": "fa41c353-1e33-4bb5-e4e2-48d24bcf7648"
      },
      "execution_count": null,
      "outputs": [
        {
          "output_type": "stream",
          "name": "stdout",
          "text": [
            "     marks(1)  attendance  marks(2)  marks(FAT)\n",
            "118        45        88.0        40          85\n",
            "119        48        94.0        32          65\n",
            "120        36        54.0        47          25\n",
            "121        41         NaN        39          48\n"
          ]
        }
      ]
    },
    {
      "cell_type": "code",
      "source": [
        "#total\n",
        "df6[\"Internal\"]=df6[\"marks(1)\"]+df6[\"marks(2)\"]\n",
        "print(df6)"
      ],
      "metadata": {
        "colab": {
          "base_uri": "https://localhost:8080/"
        },
        "id": "bMIWfzRJkzx_",
        "outputId": "9875815a-8db3-4322-ccb1-62084c442bba"
      },
      "execution_count": null,
      "outputs": [
        {
          "output_type": "stream",
          "name": "stdout",
          "text": [
            "     marks(1)  attendance  marks(2)  marks(FAT)  Internal\n",
            "118        45        88.0        40          85        85\n",
            "119        48        94.0        32          65        80\n",
            "120        36        54.0        47          25        83\n",
            "121        41         NaN        39          48        80\n"
          ]
        }
      ]
    },
    {
      "cell_type": "code",
      "source": [
        "#delete/pop\n",
        "df6.pop(\"attendance\") #or del(df6[\"attendance\"])\n",
        "print(df6)"
      ],
      "metadata": {
        "colab": {
          "base_uri": "https://localhost:8080/"
        },
        "id": "-Dq9CQHpmWkm",
        "outputId": "4f03b0cb-5cd4-4486-ca37-c58d93e4c3db"
      },
      "execution_count": null,
      "outputs": [
        {
          "output_type": "stream",
          "name": "stdout",
          "text": [
            "     marks(1)  marks(2)  marks(FAT)  Internal\n",
            "118        45        40          85        85\n",
            "119        48        32          65        80\n",
            "120        36        47          25        83\n",
            "121        41        39          48        80\n"
          ]
        }
      ]
    },
    {
      "cell_type": "code",
      "source": [
        "#slection by label\n",
        "data7={\"marks(1)\":pd.Series([45,48,36],index=[118,119,120]),\n",
        "       \"marks(2)\":pd.Series([46,37,46],index=[118,119,120]),\n",
        "       \"marks(3)\":pd.Series([31,35,26],index=[118,119,120]),\n",
        "       \"marks(4)\":pd.Series([45,48,36],index=[118,119,120])}\n",
        "df7=pd.DataFrame(data7)\n",
        "print(df7)\n",
        "print(\"Retriving data of 119\")\n",
        "print(df7.loc[119])"
      ],
      "metadata": {
        "colab": {
          "base_uri": "https://localhost:8080/"
        },
        "id": "L5M4pmEYmse0",
        "outputId": "7ea969f6-e21f-41be-bf15-bc4ae01a2e79"
      },
      "execution_count": null,
      "outputs": [
        {
          "output_type": "stream",
          "name": "stdout",
          "text": [
            "     marks(1)  marks(2)  marks(3)  marks(4)\n",
            "118        45        46        31        45\n",
            "119        48        37        35        48\n",
            "120        36        46        26        36\n",
            "Retriving data of 119\n",
            "marks(1)    48\n",
            "marks(2)    37\n",
            "marks(3)    35\n",
            "marks(4)    48\n",
            "Name: 119, dtype: int64\n"
          ]
        }
      ]
    },
    {
      "cell_type": "code",
      "source": [
        "#selection by location\n",
        "print(\"Retriving data of 120\")\n",
        "print(df7.iloc[2])"
      ],
      "metadata": {
        "colab": {
          "base_uri": "https://localhost:8080/"
        },
        "id": "YCfeiybZo7Z0",
        "outputId": "d9625313-4f13-4cc0-e008-79d1efc68fd7"
      },
      "execution_count": null,
      "outputs": [
        {
          "output_type": "stream",
          "name": "stdout",
          "text": [
            "Retriving data of 120\n",
            "marks(1)    36\n",
            "marks(2)    46\n",
            "marks(3)    26\n",
            "marks(4)    36\n",
            "Name: 120, dtype: int64\n"
          ]
        }
      ]
    },
    {
      "cell_type": "code",
      "source": [
        "#slicing rows\n",
        "print(\"Details of 119 and 120\")\n",
        "print(df7[1:])\n",
        "print(\"Details of 118 and 119\")\n",
        "print(df7[0:2])"
      ],
      "metadata": {
        "colab": {
          "base_uri": "https://localhost:8080/"
        },
        "id": "Z43cfE6Jpc3a",
        "outputId": "2621fb1c-1280-42c0-83a1-dc10686e6237"
      },
      "execution_count": null,
      "outputs": [
        {
          "output_type": "stream",
          "name": "stdout",
          "text": [
            "Details of 119 and 120\n",
            "     marks(1)  marks(2)  marks(3)  marks(4)\n",
            "119        48        37        35        48\n",
            "120        36        46        26        36\n",
            "Details of 118 and 119\n",
            "     marks(1)  marks(2)  marks(3)  marks(4)\n",
            "118        45        46        31        45\n",
            "119        48        37        35        48\n"
          ]
        }
      ]
    },
    {
      "cell_type": "code",
      "source": [
        "df9=pd.DataFrame([[1,2],[3,4],columns=[\"a\",\"b\"]])\n",
        "print(df9)\n",
        "df10=pd.DataFrame([[5,6],[7,8],columns=[\"a\",\"b\"]])\n",
        "print(df10)\n",
        "df9=df9.append(df10)\n",
        "print(df(9))"
      ],
      "metadata": {
        "id": "j0gwjB1AtiqX"
      },
      "execution_count": null,
      "outputs": []
    },
    {
      "cell_type": "code",
      "source": [],
      "metadata": {
        "id": "pdV95uNWugwm"
      },
      "execution_count": null,
      "outputs": []
    }
  ]
}