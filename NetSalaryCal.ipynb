{
  "nbformat": 4,
  "nbformat_minor": 0,
  "metadata": {
    "colab": {
      "provenance": [],
      "authorship_tag": "ABX9TyNrWEpCil2zgy4d3QdKBVF8",
      "include_colab_link": true
    },
    "kernelspec": {
      "name": "python3",
      "display_name": "Python 3"
    },
    "language_info": {
      "name": "python"
    }
  },
  "cells": [
    {
      "cell_type": "markdown",
      "metadata": {
        "id": "view-in-github",
        "colab_type": "text"
      },
      "source": [
        "<a href=\"https://colab.research.google.com/github/UjanGanguli/Python-Basics/blob/main/NetSalaryCal.ipynb\" target=\"_parent\"><img src=\"https://colab.research.google.com/assets/colab-badge.svg\" alt=\"Open In Colab\"/></a>"
      ]
    },
    {
      "cell_type": "markdown",
      "source": [
        "Simple Program in Python\n",
        "\n",
        "Reg No: 21MIA1118\n",
        "\n",
        "Name: Ujan Ganguli\n",
        "\n",
        "AIM: Calculate the Net Salary"
      ],
      "metadata": {
        "id": "B6KjmlosW_Gz"
      }
    },
    {
      "cell_type": "code",
      "execution_count": null,
      "metadata": {
        "id": "J-ClGISiuRXU",
        "colab": {
          "base_uri": "https://localhost:8080/"
        },
        "outputId": "b587ede0-b192-486d-fe17-5043f5ce4432"
      },
      "outputs": [
        {
          "output_type": "stream",
          "name": "stdout",
          "text": [
            "Enter number of employees: 2\n",
            "Enter employees name: abc\n",
            "Enter designation of employee: clerk\n",
            "Net Salary is 107800.0\n",
            "Enter employees name: bcd\n",
            "Enter designation of employee: manager\n",
            "Net Salary is 128800.0\n"
          ]
        }
      ],
      "source": [
        "#Loop for number of employees\n",
        "n=int(input(\"Enter number of employees: \"))\n",
        "for i in range(n):\n",
        "#Input from User\n",
        "  a=str(input(\"Enter employees name: \"))\n",
        "  b=str(input(\"Enter designation of employee: \"))\n",
        "#if statements for differnt designation\n",
        "  if(b=='manager'):\n",
        "    bp=92000\n",
        "  elif(b=='assistant manager'):\n",
        "    bp=85000\n",
        "  elif(b=='clerk'):\n",
        "    bp=77000\n",
        "  elif(b=='intern'):\n",
        "    bp=64000\n",
        "  elif(b=='staff'):\n",
        "    bp=58000\n",
        "#Formula\n",
        "  hra=0.25*bp\n",
        "  da=0.25*bp\n",
        "  pf=0.1*bp\n",
        "  gp=bp+hra+da\n",
        "  ded=pf\n",
        "  NS=gp-ded\n",
        "\n",
        "  print(\"Net Salary is\", NS)"
      ]
    }
  ]
}