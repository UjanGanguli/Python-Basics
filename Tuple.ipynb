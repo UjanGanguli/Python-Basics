{
  "nbformat": 4,
  "nbformat_minor": 0,
  "metadata": {
    "colab": {
      "provenance": [],
      "authorship_tag": "ABX9TyPW+N5wUO1RDLsn3RQkwXcB",
      "include_colab_link": true
    },
    "kernelspec": {
      "name": "python3",
      "display_name": "Python 3"
    },
    "language_info": {
      "name": "python"
    }
  },
  "cells": [
    {
      "cell_type": "markdown",
      "metadata": {
        "id": "view-in-github",
        "colab_type": "text"
      },
      "source": [
        "<a href=\"https://colab.research.google.com/github/UjanGanguli/Python-Basics/blob/main/Tuple.ipynb\" target=\"_parent\"><img src=\"https://colab.research.google.com/assets/colab-badge.svg\" alt=\"Open In Colab\"/></a>"
      ]
    },
    {
      "cell_type": "markdown",
      "source": [
        "Tuple"
      ],
      "metadata": {
        "id": "puQSuxjIu5no"
      }
    },
    {
      "cell_type": "code",
      "execution_count": null,
      "metadata": {
        "colab": {
          "base_uri": "https://localhost:8080/"
        },
        "id": "samtnbopuW_3",
        "outputId": "f2337792-e559-4119-b8f3-70cf275018a4"
      },
      "outputs": [
        {
          "output_type": "stream",
          "name": "stdout",
          "text": [
            "50\n",
            "(50,)\n"
          ]
        }
      ],
      "source": [
        "a=(50) #Integer\n",
        "b=(50,) #Tuple containing integer\n",
        "print(a)\n",
        "print(b)"
      ]
    },
    {
      "cell_type": "code",
      "source": [
        "tup1=(\"phy\",\"chem\",1997,2000); #Creating Tuple\n",
        "print(tup1)\n",
        "tup2=(1,2,3,4,5)\n",
        "print(tup2)\n",
        "tup3=\"a\",\"b\",\"c\",\"d\"\n",
        "print(tup3)"
      ],
      "metadata": {
        "colab": {
          "base_uri": "https://localhost:8080/"
        },
        "id": "qejpns9Tue-f",
        "outputId": "d0ac28d4-1190-45e9-8a59-d58ad8de2689"
      },
      "execution_count": null,
      "outputs": [
        {
          "output_type": "stream",
          "name": "stdout",
          "text": [
            "('phy', 'chem', 1997, 2000)\n",
            "(1, 2, 3, 4, 5)\n",
            "('a', 'b', 'c', 'd')\n"
          ]
        }
      ]
    },
    {
      "cell_type": "code",
      "source": [
        "(4,8) +(8,9) #Concatenation"
      ],
      "metadata": {
        "colab": {
          "base_uri": "https://localhost:8080/"
        },
        "id": "NzXuADxQwDr1",
        "outputId": "dc1a4612-0483-4170-9300-c6ff670ec29e"
      },
      "execution_count": null,
      "outputs": [
        {
          "output_type": "execute_result",
          "data": {
            "text/plain": [
              "(4, 8, 8, 9)"
            ]
          },
          "metadata": {},
          "execution_count": 3
        }
      ]
    },
    {
      "cell_type": "code",
      "source": [
        "(5,7)*4 #Repetition"
      ],
      "metadata": {
        "colab": {
          "base_uri": "https://localhost:8080/"
        },
        "id": "ve3QVuwIxAe8",
        "outputId": "87c4e6de-82c1-4c8b-da3f-6520267b194c"
      },
      "execution_count": null,
      "outputs": [
        {
          "output_type": "execute_result",
          "data": {
            "text/plain": [
              "(5, 7, 5, 7, 5, 7, 5, 7)"
            ]
          },
          "metadata": {},
          "execution_count": 4
        }
      ]
    },
    {
      "cell_type": "code",
      "source": [
        "T=(6,4,8,9) #Indexing,Slicing\n",
        "T[0] , T[1:3]"
      ],
      "metadata": {
        "colab": {
          "base_uri": "https://localhost:8080/"
        },
        "id": "8DDYzUDLxDmK",
        "outputId": "463aae52-5dff-48a7-b9b9-4ebc9921fad5"
      },
      "execution_count": null,
      "outputs": [
        {
          "output_type": "execute_result",
          "data": {
            "text/plain": [
              "(6, (4, 8))"
            ]
          },
          "metadata": {},
          "execution_count": 14
        }
      ]
    },
    {
      "cell_type": "code",
      "source": [
        "tmp=[\"ed\",\"sb\",\"fe\",\"fa\"] #List\n",
        "print(tmp)\n",
        "t=tuple(tmp) #Converting List to Tuple\n",
        "sorted(t) #Sorting Tuple\n",
        "print(\"Sorted tuple: \",t)"
      ],
      "metadata": {
        "colab": {
          "base_uri": "https://localhost:8080/"
        },
        "id": "M92M5XznxNRa",
        "outputId": "e2a61dc3-e153-485d-8107-d27344b25e4e"
      },
      "execution_count": null,
      "outputs": [
        {
          "output_type": "stream",
          "name": "stdout",
          "text": [
            "['ed', 'sb', 'fe', 'fa']\n",
            "Sorted tuple:  ('ed', 'sb', 'fe', 'fa')\n"
          ]
        }
      ]
    },
    {
      "cell_type": "code",
      "source": [
        "A=(10,100,0.1,0.01) #Tuple A\n",
        "print(A)\n",
        "B=[x+5 for x in A] #Adding 5 to Tuple A\n",
        "print(B)"
      ],
      "metadata": {
        "colab": {
          "base_uri": "https://localhost:8080/"
        },
        "id": "m2IKaUyqxidq",
        "outputId": "988d4fcc-88dd-4487-d32f-bac1fe47acd0"
      },
      "execution_count": null,
      "outputs": [
        {
          "output_type": "stream",
          "name": "stdout",
          "text": [
            "(10, 100, 0.1, 0.01)\n",
            "[15, 105, 5.1, 5.01]\n"
          ]
        }
      ]
    },
    {
      "cell_type": "code",
      "source": [
        "X=(9,8,7,4,9,4,2,1,9)\n",
        "l=X.index(4) #Location of \"4\"\n",
        "print(\"Location of 4: \",l)\n",
        "m=X.index(9,1) #Second occurence of 9\n",
        "print(\"Second occurence of 9: \",m)\n",
        "n=X.index(9,5) #Third occurence of 9\n",
        "print(\"Third occurence of 9: \",n)\n",
        "o=X.count(9) #Count of \"9\"\n",
        "print(\"Number of 9s:\",o)"
      ],
      "metadata": {
        "colab": {
          "base_uri": "https://localhost:8080/"
        },
        "id": "y62USfnq0lC_",
        "outputId": "28c69dcb-368f-48d8-947c-3a635357e6a5"
      },
      "execution_count": null,
      "outputs": [
        {
          "output_type": "stream",
          "name": "stdout",
          "text": [
            "Location of 4:  3\n",
            "Second occurence of 9:  4\n",
            "Third occurence of 9:  8\n",
            "Number of 9s: 3\n"
          ]
        }
      ]
    },
    {
      "cell_type": "code",
      "source": [
        "T1=(87,\"Apple\",\"Orange\",\"Nope\",4)\n",
        "print(T1)\n",
        "print(T1[0],T1[-1]) #Access by Location"
      ],
      "metadata": {
        "colab": {
          "base_uri": "https://localhost:8080/"
        },
        "id": "LqZjFfJN2BcV",
        "outputId": "47315269-d640-4898-d621-794afe602041"
      },
      "execution_count": null,
      "outputs": [
        {
          "output_type": "stream",
          "name": "stdout",
          "text": [
            "(87, 'Apple', 'Orange', 'Nope', 4)\n",
            "87 4\n"
          ]
        }
      ]
    },
    {
      "cell_type": "code",
      "source": [],
      "metadata": {
        "id": "FuGocoOM8euW"
      },
      "execution_count": null,
      "outputs": []
    }
  ]
}