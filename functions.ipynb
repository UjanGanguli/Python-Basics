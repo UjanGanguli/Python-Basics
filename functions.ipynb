{
  "nbformat": 4,
  "nbformat_minor": 0,
  "metadata": {
    "colab": {
      "provenance": [],
      "authorship_tag": "ABX9TyNCEcbPNB8fXIuMZNvrEucT",
      "include_colab_link": true
    },
    "kernelspec": {
      "name": "python3",
      "display_name": "Python 3"
    },
    "language_info": {
      "name": "python"
    }
  },
  "cells": [
    {
      "cell_type": "markdown",
      "metadata": {
        "id": "view-in-github",
        "colab_type": "text"
      },
      "source": [
        "<a href=\"https://colab.research.google.com/github/UjanGanguli/Python-Basics/blob/main/functions.ipynb\" target=\"_parent\"><img src=\"https://colab.research.google.com/assets/colab-badge.svg\" alt=\"Open In Colab\"/></a>"
      ]
    },
    {
      "cell_type": "markdown",
      "source": [
        "Functions"
      ],
      "metadata": {
        "id": "BEO8USmx4Xph"
      }
    },
    {
      "cell_type": "markdown",
      "source": [
        "Using filter function find odd and even number from the list."
      ],
      "metadata": {
        "id": "yyOQNOuehYrM"
      }
    },
    {
      "cell_type": "code",
      "execution_count": null,
      "metadata": {
        "colab": {
          "base_uri": "https://localhost:8080/"
        },
        "id": "wquDbTVohOWI",
        "outputId": "83bb5a16-c8c5-463a-bd8c-44b02d78b14b"
      },
      "outputs": [
        {
          "output_type": "stream",
          "name": "stdout",
          "text": [
            "[1, 3, 5, 13]\n",
            "[0, 2, 8]\n"
          ]
        }
      ],
      "source": [
        "# a list contains both even and odd numbers.\n",
        "seq = [0, 1, 2, 3, 5, 8, 13]\n",
        "\n",
        "# result contains odd numbers of the list\n",
        "result = filter(lambda x: x % 2 != 0, seq)\n",
        "print(list(result))\n",
        "\n",
        "# result contains even numbers of the list\n",
        "result = filter(lambda x: x % 2 == 0, seq)\n",
        "print(list(result))"
      ]
    },
    {
      "cell_type": "markdown",
      "source": [
        "Using map function find the square of the integers in a list"
      ],
      "metadata": {
        "id": "XFO50OrUhZJz"
      }
    },
    {
      "cell_type": "code",
      "source": [
        "def squareOfNum(n):\n",
        "\n",
        "    return n**2\n",
        "\n",
        "# Existing list\n",
        "\n",
        "listOfNum = [2, 3, 4, 1, 3]\n",
        "\n",
        "# Using map to create a new list squaredList\n",
        "\n",
        "squaredListOfNum = list(map(squareOfNum, listOfNum))\n",
        "\n",
        "print(squaredListOfNum) # Output is [4, 9, 16, 1, 9]"
      ],
      "metadata": {
        "colab": {
          "base_uri": "https://localhost:8080/"
        },
        "id": "NU4qnUBhhUhM",
        "outputId": "8cf73a4f-21aa-415a-d940-539ddde245a6"
      },
      "execution_count": null,
      "outputs": [
        {
          "output_type": "stream",
          "name": "stdout",
          "text": [
            "[4, 9, 16, 1, 9]\n"
          ]
        }
      ]
    },
    {
      "cell_type": "markdown",
      "source": [
        "Using reduce function find the maximum and sum of the elements in the list.\n"
      ],
      "metadata": {
        "id": "1L7ZFVcGh-Gb"
      }
    },
    {
      "cell_type": "code",
      "source": [
        "# importing functools for reduce()\n",
        "import functools\n",
        "\n",
        "# initializing list\n",
        "lis = [1, 3, 5, 6, 2, ]\n",
        "\n",
        "# using reduce to compute sum of list\n",
        "print(\"The sum of the list elements is : \", end=\"\")\n",
        "print(functools.reduce(lambda a, b: a+b, lis))\n",
        "\n",
        "# using reduce to compute maximum element from list\n",
        "print(\"The maximum element of the list is : \", end=\"\")\n",
        "print(functools.reduce(lambda a, b: a if a > b else b, lis))"
      ],
      "metadata": {
        "id": "7GdQVE4qhj0q",
        "colab": {
          "base_uri": "https://localhost:8080/"
        },
        "outputId": "5bb27e8a-0d25-4afb-8568-5f16f2175a0b"
      },
      "execution_count": null,
      "outputs": [
        {
          "output_type": "stream",
          "name": "stdout",
          "text": [
            "The sum of the list elements is : 17\n",
            "The maximum element of the list is : 6\n"
          ]
        }
      ]
    }
  ]
}