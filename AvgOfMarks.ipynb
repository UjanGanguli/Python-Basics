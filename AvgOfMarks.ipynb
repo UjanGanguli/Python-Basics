{
  "nbformat": 4,
  "nbformat_minor": 0,
  "metadata": {
    "colab": {
      "provenance": [],
      "authorship_tag": "ABX9TyPiavAlrm4JhYenaR2eihUf",
      "include_colab_link": true
    },
    "kernelspec": {
      "name": "python3",
      "display_name": "Python 3"
    },
    "language_info": {
      "name": "python"
    }
  },
  "cells": [
    {
      "cell_type": "markdown",
      "metadata": {
        "id": "view-in-github",
        "colab_type": "text"
      },
      "source": [
        "<a href=\"https://colab.research.google.com/github/UjanGanguli/Python-Basics/blob/main/AvgOfMarks.ipynb\" target=\"_parent\"><img src=\"https://colab.research.google.com/assets/colab-badge.svg\" alt=\"Open In Colab\"/></a>"
      ]
    },
    {
      "cell_type": "code",
      "execution_count": null,
      "metadata": {
        "colab": {
          "base_uri": "https://localhost:8080/"
        },
        "id": "eChceCSVqNax",
        "outputId": "98263881-27e8-4e97-8e1f-90376511f213"
      },
      "outputs": [
        {
          "name": "stdout",
          "output_type": "stream",
          "text": [
            "Enter number of Students: 2\n",
            "Enter the name of the student: uyjfgu\n",
            "Subject 1 marks : 50\n",
            "Subject 2 marks : 60\n",
            "Subject 3 marks : 30\n",
            "The average is 46.666666666666664\n",
            "Enter the name of the student: urf7y6\n"
          ]
        }
      ],
      "source": [
        "#Loop For Students\n",
        "a=int(input(\"Enter number of Students: \"))\n",
        "for x in range(a):\n",
        "  a=str(input(\"Enter the name of the student: \"))\n",
        "  b=int(input(\"Subject 1 marks : \"))\n",
        "  c=int(input(\"Subject 2 marks : \"))\n",
        "  d=int(input(\"Subject 3 marks : \"))\n",
        "  e=(b+c+d)/3\n",
        "  print(\"The average is\",e)"
      ]
    }
  ]
}