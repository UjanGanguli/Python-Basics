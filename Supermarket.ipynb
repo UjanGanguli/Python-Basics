{
  "nbformat": 4,
  "nbformat_minor": 0,
  "metadata": {
    "colab": {
      "provenance": [],
      "authorship_tag": "ABX9TyMi6Mg3yF1s+U0yRbXLpDqb",
      "include_colab_link": true
    },
    "kernelspec": {
      "name": "python3",
      "display_name": "Python 3"
    },
    "language_info": {
      "name": "python"
    }
  },
  "cells": [
    {
      "cell_type": "markdown",
      "metadata": {
        "id": "view-in-github",
        "colab_type": "text"
      },
      "source": [
        "<a href=\"https://colab.research.google.com/github/UjanGanguli/Python-Basics/blob/main/Supermarket.ipynb\" target=\"_parent\"><img src=\"https://colab.research.google.com/assets/colab-badge.svg\" alt=\"Open In Colab\"/></a>"
      ]
    },
    {
      "cell_type": "markdown",
      "source": [
        "Simple Program in Python\n",
        "\n",
        "Reg No: 21MIA1118\n",
        "\n",
        "Name: Ujan Ganguli\n",
        "\n",
        "AIM:In a supermarket there are two sections S1 and S2.  The sales details of item1 to item of section1 and item1 to item of section2 are maintained in a sorted order.  Write a program to merge the elements of the two sorted lists to form the consolidated list."
      ],
      "metadata": {
        "id": "7-XUE4zVBdS-"
      }
    },
    {
      "cell_type": "code",
      "execution_count": null,
      "metadata": {
        "colab": {
          "base_uri": "https://localhost:8080/"
        },
        "id": "0dqMkB3rBcV4",
        "outputId": "a7e8b769-ba8c-4c35-9d0e-13a8d1330f31"
      },
      "outputs": [
        {
          "output_type": "stream",
          "name": "stdout",
          "text": [
            "Consolidated list: [1, 4, 56, 78, 34, 2, 98, 31, 23, 11]\n"
          ]
        }
      ],
      "source": [
        "s1=[1,56,78,34,2]\n",
        "s2=[4,98,31,23,11]\n",
        "len1=len(s1)\n",
        "len2=len(s2)\n",
        "i=0\n",
        "j=0\n",
        "consol=[]\n",
        "while i<len1 and j<len2:\n",
        "  if(s1[i]<s2[j]):\n",
        "    consol.append(s1[i])\n",
        "    i=i+1\n",
        "  else:\n",
        "    consol.append(s2[j])\n",
        "    j=j+1\n",
        "consol=consol+s1[i:]+s2[j:]\n",
        "print(\"Consolidated list:\",consol)"
      ]
    }
  ]
}